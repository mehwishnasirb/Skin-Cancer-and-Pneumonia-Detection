{
  "nbformat": 4,
  "nbformat_minor": 0,
  "metadata": {
    "colab": {
      "provenance": [],
      "gpuType": "T4"
    },
    "kernelspec": {
      "name": "python3",
      "display_name": "Python 3"
    },
    "language_info": {
      "name": "python"
    },
    "accelerator": "GPU"
  },
  "cells": [
    {
      "cell_type": "code",
      "execution_count": 1,
      "metadata": {
        "id": "9log3LxAxGtz"
      },
      "outputs": [],
      "source": [
        "# ============================================================\n",
        "# WEEK 3: Skin Cancer and Pneumonia Detection\n",
        "# With Kaggle Dataset Download\n",
        "# ============================================================\n",
        "\n",
        "import os\n",
        "import numpy as np\n",
        "import matplotlib.pyplot as plt\n",
        "from sklearn.metrics import classification_report, confusion_matrix, roc_curve, auc\n",
        "import tensorflow as tf\n",
        "from tensorflow import keras\n",
        "from tensorflow.keras import layers\n",
        "from tensorflow.keras.preprocessing.image import ImageDataGenerator\n",
        "from tensorflow.keras.applications import ResNet50\n",
        "from sklearn.model_selection import train_test_split\n",
        "import shutil\n",
        "import zipfile\n",
        "\n",
        "SEED = 42\n",
        "IMG_SIZE = (128, 128)\n",
        "BATCH_SIZE = 32\n",
        "\n"
      ]
    },
    {
      "cell_type": "code",
      "source": [
        "!pip install kaggle -q\n",
        "from google.colab import files\n",
        "files.upload()  # upload kaggle.json"
      ],
      "metadata": {
        "colab": {
          "base_uri": "https://localhost:8080/",
          "height": 91
        },
        "id": "pVcnNAep0AKO",
        "outputId": "a4fec8e1-e8f9-43d3-d688-769663c45f9f"
      },
      "execution_count": 2,
      "outputs": [
        {
          "output_type": "display_data",
          "data": {
            "text/plain": [
              "<IPython.core.display.HTML object>"
            ],
            "text/html": [
              "\n",
              "     <input type=\"file\" id=\"files-ac87f7b0-1c72-4d6a-b281-4fd5739bf636\" name=\"files[]\" multiple disabled\n",
              "        style=\"border:none\" />\n",
              "     <output id=\"result-ac87f7b0-1c72-4d6a-b281-4fd5739bf636\">\n",
              "      Upload widget is only available when the cell has been executed in the\n",
              "      current browser session. Please rerun this cell to enable.\n",
              "      </output>\n",
              "      <script>// Copyright 2017 Google LLC\n",
              "//\n",
              "// Licensed under the Apache License, Version 2.0 (the \"License\");\n",
              "// you may not use this file except in compliance with the License.\n",
              "// You may obtain a copy of the License at\n",
              "//\n",
              "//      http://www.apache.org/licenses/LICENSE-2.0\n",
              "//\n",
              "// Unless required by applicable law or agreed to in writing, software\n",
              "// distributed under the License is distributed on an \"AS IS\" BASIS,\n",
              "// WITHOUT WARRANTIES OR CONDITIONS OF ANY KIND, either express or implied.\n",
              "// See the License for the specific language governing permissions and\n",
              "// limitations under the License.\n",
              "\n",
              "/**\n",
              " * @fileoverview Helpers for google.colab Python module.\n",
              " */\n",
              "(function(scope) {\n",
              "function span(text, styleAttributes = {}) {\n",
              "  const element = document.createElement('span');\n",
              "  element.textContent = text;\n",
              "  for (const key of Object.keys(styleAttributes)) {\n",
              "    element.style[key] = styleAttributes[key];\n",
              "  }\n",
              "  return element;\n",
              "}\n",
              "\n",
              "// Max number of bytes which will be uploaded at a time.\n",
              "const MAX_PAYLOAD_SIZE = 100 * 1024;\n",
              "\n",
              "function _uploadFiles(inputId, outputId) {\n",
              "  const steps = uploadFilesStep(inputId, outputId);\n",
              "  const outputElement = document.getElementById(outputId);\n",
              "  // Cache steps on the outputElement to make it available for the next call\n",
              "  // to uploadFilesContinue from Python.\n",
              "  outputElement.steps = steps;\n",
              "\n",
              "  return _uploadFilesContinue(outputId);\n",
              "}\n",
              "\n",
              "// This is roughly an async generator (not supported in the browser yet),\n",
              "// where there are multiple asynchronous steps and the Python side is going\n",
              "// to poll for completion of each step.\n",
              "// This uses a Promise to block the python side on completion of each step,\n",
              "// then passes the result of the previous step as the input to the next step.\n",
              "function _uploadFilesContinue(outputId) {\n",
              "  const outputElement = document.getElementById(outputId);\n",
              "  const steps = outputElement.steps;\n",
              "\n",
              "  const next = steps.next(outputElement.lastPromiseValue);\n",
              "  return Promise.resolve(next.value.promise).then((value) => {\n",
              "    // Cache the last promise value to make it available to the next\n",
              "    // step of the generator.\n",
              "    outputElement.lastPromiseValue = value;\n",
              "    return next.value.response;\n",
              "  });\n",
              "}\n",
              "\n",
              "/**\n",
              " * Generator function which is called between each async step of the upload\n",
              " * process.\n",
              " * @param {string} inputId Element ID of the input file picker element.\n",
              " * @param {string} outputId Element ID of the output display.\n",
              " * @return {!Iterable<!Object>} Iterable of next steps.\n",
              " */\n",
              "function* uploadFilesStep(inputId, outputId) {\n",
              "  const inputElement = document.getElementById(inputId);\n",
              "  inputElement.disabled = false;\n",
              "\n",
              "  const outputElement = document.getElementById(outputId);\n",
              "  outputElement.innerHTML = '';\n",
              "\n",
              "  const pickedPromise = new Promise((resolve) => {\n",
              "    inputElement.addEventListener('change', (e) => {\n",
              "      resolve(e.target.files);\n",
              "    });\n",
              "  });\n",
              "\n",
              "  const cancel = document.createElement('button');\n",
              "  inputElement.parentElement.appendChild(cancel);\n",
              "  cancel.textContent = 'Cancel upload';\n",
              "  const cancelPromise = new Promise((resolve) => {\n",
              "    cancel.onclick = () => {\n",
              "      resolve(null);\n",
              "    };\n",
              "  });\n",
              "\n",
              "  // Wait for the user to pick the files.\n",
              "  const files = yield {\n",
              "    promise: Promise.race([pickedPromise, cancelPromise]),\n",
              "    response: {\n",
              "      action: 'starting',\n",
              "    }\n",
              "  };\n",
              "\n",
              "  cancel.remove();\n",
              "\n",
              "  // Disable the input element since further picks are not allowed.\n",
              "  inputElement.disabled = true;\n",
              "\n",
              "  if (!files) {\n",
              "    return {\n",
              "      response: {\n",
              "        action: 'complete',\n",
              "      }\n",
              "    };\n",
              "  }\n",
              "\n",
              "  for (const file of files) {\n",
              "    const li = document.createElement('li');\n",
              "    li.append(span(file.name, {fontWeight: 'bold'}));\n",
              "    li.append(span(\n",
              "        `(${file.type || 'n/a'}) - ${file.size} bytes, ` +\n",
              "        `last modified: ${\n",
              "            file.lastModifiedDate ? file.lastModifiedDate.toLocaleDateString() :\n",
              "                                    'n/a'} - `));\n",
              "    const percent = span('0% done');\n",
              "    li.appendChild(percent);\n",
              "\n",
              "    outputElement.appendChild(li);\n",
              "\n",
              "    const fileDataPromise = new Promise((resolve) => {\n",
              "      const reader = new FileReader();\n",
              "      reader.onload = (e) => {\n",
              "        resolve(e.target.result);\n",
              "      };\n",
              "      reader.readAsArrayBuffer(file);\n",
              "    });\n",
              "    // Wait for the data to be ready.\n",
              "    let fileData = yield {\n",
              "      promise: fileDataPromise,\n",
              "      response: {\n",
              "        action: 'continue',\n",
              "      }\n",
              "    };\n",
              "\n",
              "    // Use a chunked sending to avoid message size limits. See b/62115660.\n",
              "    let position = 0;\n",
              "    do {\n",
              "      const length = Math.min(fileData.byteLength - position, MAX_PAYLOAD_SIZE);\n",
              "      const chunk = new Uint8Array(fileData, position, length);\n",
              "      position += length;\n",
              "\n",
              "      const base64 = btoa(String.fromCharCode.apply(null, chunk));\n",
              "      yield {\n",
              "        response: {\n",
              "          action: 'append',\n",
              "          file: file.name,\n",
              "          data: base64,\n",
              "        },\n",
              "      };\n",
              "\n",
              "      let percentDone = fileData.byteLength === 0 ?\n",
              "          100 :\n",
              "          Math.round((position / fileData.byteLength) * 100);\n",
              "      percent.textContent = `${percentDone}% done`;\n",
              "\n",
              "    } while (position < fileData.byteLength);\n",
              "  }\n",
              "\n",
              "  // All done.\n",
              "  yield {\n",
              "    response: {\n",
              "      action: 'complete',\n",
              "    }\n",
              "  };\n",
              "}\n",
              "\n",
              "scope.google = scope.google || {};\n",
              "scope.google.colab = scope.google.colab || {};\n",
              "scope.google.colab._files = {\n",
              "  _uploadFiles,\n",
              "  _uploadFilesContinue,\n",
              "};\n",
              "})(self);\n",
              "</script> "
            ]
          },
          "metadata": {}
        },
        {
          "output_type": "stream",
          "name": "stdout",
          "text": [
            "Saving kaggle.json to kaggle.json\n"
          ]
        },
        {
          "output_type": "execute_result",
          "data": {
            "text/plain": [
              "{'kaggle.json': b'{\"username\":\"mehwishnasir\",\"key\":\"9aa79437c925736460594cf500daf934\"}'}"
            ]
          },
          "metadata": {},
          "execution_count": 2
        }
      ]
    },
    {
      "cell_type": "code",
      "source": [
        "# ============================================================\n",
        "# Kaggle API Setup\n",
        "# ============================================================\n",
        "# Make sure your kaggle.json is uploaded first\n",
        "!mkdir -p ~/.kaggle\n",
        "!cp kaggle.json ~/.kaggle/\n",
        "!chmod 600 ~/.kaggle/kaggle.json\n",
        "\n"
      ],
      "metadata": {
        "id": "BaS4JsWSxNh-"
      },
      "execution_count": 3,
      "outputs": []
    },
    {
      "cell_type": "code",
      "source": [
        "# ============================================================\n",
        "# Download Skin Cancer Dataset (ISIC 2019 - binary subset)\n",
        "# ============================================================\n",
        "!kaggle datasets download -d kmader/skin-cancer-mnist-ham10000 -p ./data\n",
        "!unzip -qo ./data/skin-cancer-mnist-ham10000.zip -d ./data/skin_cancer\n",
        "\n",
        "# Download Pneumonia Dataset\n",
        "!kaggle datasets download -d paultimothymooney/chest-xray-pneumonia -p ./data\n",
        "!unzip -qo ./data/chest-xray-pneumonia.zip -d ./data/pneumonia\n"
      ],
      "metadata": {
        "colab": {
          "base_uri": "https://localhost:8080/"
        },
        "id": "LXbU1PLvxNkD",
        "outputId": "a00f9197-fc13-48fa-9e6f-392c887d6f39"
      },
      "execution_count": 4,
      "outputs": [
        {
          "output_type": "stream",
          "name": "stdout",
          "text": [
            "Dataset URL: https://www.kaggle.com/datasets/kmader/skin-cancer-mnist-ham10000\n",
            "License(s): CC-BY-NC-SA-4.0\n",
            "Downloading skin-cancer-mnist-ham10000.zip to ./data\n",
            "100% 5.20G/5.20G [01:25<00:00, 36.6MB/s]\n",
            "100% 5.20G/5.20G [01:25<00:00, 65.4MB/s]\n",
            "Dataset URL: https://www.kaggle.com/datasets/paultimothymooney/chest-xray-pneumonia\n",
            "License(s): other\n",
            "Downloading chest-xray-pneumonia.zip to ./data\n",
            "100% 2.29G/2.29G [00:21<00:00, 265MB/s]\n",
            "100% 2.29G/2.29G [00:21<00:00, 113MB/s]\n"
          ]
        }
      ]
    },
    {
      "cell_type": "code",
      "source": [
        "# ============================================================\n",
        "# Utility: ROC Curve\n",
        "# ============================================================\n",
        "def plot_roc(y_true, y_prob, title=\"ROC Curve\"):\n",
        "    fpr, tpr, _ = roc_curve(y_true, y_prob)\n",
        "    roc_auc = auc(fpr, tpr)\n",
        "    plt.plot(fpr, tpr, label=f\"AUC = {roc_auc:.2f}\")\n",
        "    plt.plot([0, 1], [0, 1], linestyle=\"--\")\n",
        "    plt.xlabel(\"False Positive Rate\")\n",
        "    plt.ylabel(\"True Positive Rate\")\n",
        "    plt.title(title)\n",
        "    plt.legend()\n",
        "    plt.show()\n"
      ],
      "metadata": {
        "id": "0ohbbON6xNm8"
      },
      "execution_count": 5,
      "outputs": []
    },
    {
      "cell_type": "code",
      "source": [
        "# ============================================================\n",
        "# PART A: Skin Cancer Detection\n",
        "# ============================================================\n",
        "\n",
        "# Prepare train/val/test folders manually (using HAM10000 dataset)\n",
        "import pandas as pd\n",
        "df = pd.read_csv(\"./data/skin_cancer/HAM10000_metadata.csv\")\n",
        "\n",
        "# Binary split: melanocytic nevus (nv) = 0, melanoma (mel) = 1\n",
        "df = df[df[\"dx\"].isin([\"nv\",\"mel\"])]\n",
        "df[\"label\"] = df[\"dx\"].map({\"nv\":0, \"mel\":1})\n",
        "\n",
        "# Copy images into split folders\n",
        "base_dir = \"data/skin_cancer_split\"\n",
        "for split in [\"train\",\"val\",\"test\"]:\n",
        "    for cls in [\"0\",\"1\"]:\n",
        "        os.makedirs(os.path.join(base_dir, split, cls), exist_ok=True)\n",
        "\n",
        "train_df, test_df = train_test_split(df, stratify=df[\"label\"], test_size=0.2, random_state=SEED)\n",
        "train_df, val_df  = train_test_split(train_df, stratify=train_df[\"label\"], test_size=0.2, random_state=SEED)\n",
        "\n",
        "def copy_images(dataframe, split):\n",
        "    for _, row in dataframe.iterrows():\n",
        "        img_id, label = row[\"image_id\"], str(row[\"label\"])\n",
        "        src = f\"./data/skin_cancer/HAM10000_images_part_1/{img_id}.jpg\"\n",
        "        if not os.path.exists(src):\n",
        "            src = f\"./data/skin_cancer/HAM10000_images_part_2/{img_id}.jpg\"\n",
        "        dst = os.path.join(base_dir, split, label, f\"{img_id}.jpg\")\n",
        "        if os.path.exists(src):\n",
        "            shutil.copy(src, dst)\n",
        "\n",
        "copy_images(train_df, \"train\")\n",
        "copy_images(val_df, \"val\")\n",
        "copy_images(test_df, \"test\")\n",
        "\n",
        "# Generators\n",
        "train_gen = ImageDataGenerator(rescale=1./255)\n",
        "val_gen   = ImageDataGenerator(rescale=1./255)\n",
        "test_gen  = ImageDataGenerator(rescale=1./255)\n",
        "\n",
        "train_flow = train_gen.flow_from_directory(base_dir+\"/train\", target_size=IMG_SIZE, batch_size=BATCH_SIZE, class_mode=\"binary\", shuffle=True, seed=SEED)\n",
        "val_flow   = val_gen.flow_from_directory(base_dir+\"/val\",   target_size=IMG_SIZE, batch_size=BATCH_SIZE, class_mode=\"binary\", shuffle=False)\n",
        "test_flow  = test_gen.flow_from_directory(base_dir+\"/test\", target_size=IMG_SIZE, batch_size=BATCH_SIZE, class_mode=\"binary\", shuffle=False)\n"
      ],
      "metadata": {
        "colab": {
          "base_uri": "https://localhost:8080/"
        },
        "id": "vhTSLnYrxNpj",
        "outputId": "ea0498a4-2a5f-473f-8fad-ae05c20d8dd3"
      },
      "execution_count": 6,
      "outputs": [
        {
          "output_type": "stream",
          "name": "stdout",
          "text": [
            "Found 5003 images belonging to 2 classes.\n",
            "Found 1251 images belonging to 2 classes.\n",
            "Found 1564 images belonging to 2 classes.\n"
          ]
        }
      ]
    },
    {
      "cell_type": "code",
      "source": [
        "# Build Transfer Learning Model\n",
        "base_model = ResNet50(weights=\"imagenet\", include_top=False, input_shape=(128,128,3))\n",
        "base_model.trainable = False\n",
        "model_skin = keras.Sequential([\n",
        "    base_model,\n",
        "    layers.GlobalAveragePooling2D(),\n",
        "    layers.Dense(128, activation=\"relu\"),\n",
        "    layers.Dropout(0.5),\n",
        "    layers.Dense(1, activation=\"sigmoid\")\n",
        "])\n",
        "\n",
        "model_skin.compile(optimizer=keras.optimizers.Adam(1e-4),\n",
        "                   loss=\"binary_crossentropy\", metrics=[\"accuracy\"])\n",
        "\n",
        "history_skin = model_skin.fit(train_flow, validation_data=val_flow, epochs=8)\n",
        "\n"
      ],
      "metadata": {
        "colab": {
          "base_uri": "https://localhost:8080/"
        },
        "id": "bEhqKfbaxNrm",
        "outputId": "9baaa4b5-4fc5-4193-f340-665daabf1d03"
      },
      "execution_count": 7,
      "outputs": [
        {
          "output_type": "stream",
          "name": "stdout",
          "text": [
            "Downloading data from https://storage.googleapis.com/tensorflow/keras-applications/resnet/resnet50_weights_tf_dim_ordering_tf_kernels_notop.h5\n",
            "\u001b[1m94765736/94765736\u001b[0m \u001b[32m━━━━━━━━━━━━━━━━━━━━\u001b[0m\u001b[37m\u001b[0m \u001b[1m3s\u001b[0m 0us/step\n"
          ]
        },
        {
          "output_type": "stream",
          "name": "stderr",
          "text": [
            "/usr/local/lib/python3.12/dist-packages/keras/src/trainers/data_adapters/py_dataset_adapter.py:121: UserWarning: Your `PyDataset` class should call `super().__init__(**kwargs)` in its constructor. `**kwargs` can include `workers`, `use_multiprocessing`, `max_queue_size`. Do not pass these arguments to `fit()`, as they will be ignored.\n",
            "  self._warn_if_super_not_called()\n"
          ]
        },
        {
          "output_type": "stream",
          "name": "stdout",
          "text": [
            "Epoch 1/8\n",
            "\u001b[1m157/157\u001b[0m \u001b[32m━━━━━━━━━━━━━━━━━━━━\u001b[0m\u001b[37m\u001b[0m \u001b[1m67s\u001b[0m 327ms/step - accuracy: 0.7879 - loss: 0.5041 - val_accuracy: 0.8577 - val_loss: 0.4107\n",
            "Epoch 2/8\n",
            "\u001b[1m157/157\u001b[0m \u001b[32m━━━━━━━━━━━━━━━━━━━━\u001b[0m\u001b[37m\u001b[0m \u001b[1m42s\u001b[0m 269ms/step - accuracy: 0.8547 - loss: 0.4297 - val_accuracy: 0.8577 - val_loss: 0.4093\n",
            "Epoch 3/8\n",
            "\u001b[1m157/157\u001b[0m \u001b[32m━━━━━━━━━━━━━━━━━━━━\u001b[0m\u001b[37m\u001b[0m \u001b[1m79s\u001b[0m 254ms/step - accuracy: 0.8567 - loss: 0.4252 - val_accuracy: 0.8577 - val_loss: 0.4070\n",
            "Epoch 4/8\n",
            "\u001b[1m157/157\u001b[0m \u001b[32m━━━━━━━━━━━━━━━━━━━━\u001b[0m\u001b[37m\u001b[0m \u001b[1m40s\u001b[0m 253ms/step - accuracy: 0.8543 - loss: 0.4311 - val_accuracy: 0.8577 - val_loss: 0.4072\n",
            "Epoch 5/8\n",
            "\u001b[1m157/157\u001b[0m \u001b[32m━━━━━━━━━━━━━━━━━━━━\u001b[0m\u001b[37m\u001b[0m \u001b[1m39s\u001b[0m 251ms/step - accuracy: 0.8679 - loss: 0.3997 - val_accuracy: 0.8577 - val_loss: 0.4054\n",
            "Epoch 6/8\n",
            "\u001b[1m157/157\u001b[0m \u001b[32m━━━━━━━━━━━━━━━━━━━━\u001b[0m\u001b[37m\u001b[0m \u001b[1m44s\u001b[0m 268ms/step - accuracy: 0.8562 - loss: 0.4161 - val_accuracy: 0.8577 - val_loss: 0.4045\n",
            "Epoch 7/8\n",
            "\u001b[1m157/157\u001b[0m \u001b[32m━━━━━━━━━━━━━━━━━━━━\u001b[0m\u001b[37m\u001b[0m \u001b[1m39s\u001b[0m 251ms/step - accuracy: 0.8657 - loss: 0.4034 - val_accuracy: 0.8577 - val_loss: 0.4034\n",
            "Epoch 8/8\n",
            "\u001b[1m157/157\u001b[0m \u001b[32m━━━━━━━━━━━━━━━━━━━━\u001b[0m\u001b[37m\u001b[0m \u001b[1m39s\u001b[0m 252ms/step - accuracy: 0.8548 - loss: 0.4141 - val_accuracy: 0.8577 - val_loss: 0.4013\n"
          ]
        }
      ]
    },
    {
      "cell_type": "code",
      "source": [
        "# Evaluation\n",
        "y_prob_skin = model_skin.predict(test_flow).ravel()\n",
        "y_pred_skin = (y_prob_skin >= 0.5).astype(int)\n",
        "y_true_skin = test_flow.classes\n",
        "print(\"\\n[Skin Cancer] Report:\\n\", classification_report(y_true_skin, y_pred_skin))\n",
        "print(\"Confusion Matrix:\\n\", confusion_matrix(y_true_skin, y_pred_skin))\n",
        "plot_roc(y_true_skin, y_prob_skin, \"Skin Cancer ROC Curve\")\n"
      ],
      "metadata": {
        "colab": {
          "base_uri": "https://localhost:8080/",
          "height": 872
        },
        "id": "KFh-LO08xNuL",
        "outputId": "d13ecae0-c997-40d3-ed53-d54dcc19f0ac"
      },
      "execution_count": 8,
      "outputs": [
        {
          "output_type": "stream",
          "name": "stdout",
          "text": [
            "\u001b[1m49/49\u001b[0m \u001b[32m━━━━━━━━━━━━━━━━━━━━\u001b[0m\u001b[37m\u001b[0m \u001b[1m19s\u001b[0m 295ms/step\n",
            "\n",
            "[Skin Cancer] Report:\n",
            "               precision    recall  f1-score   support\n",
            "\n",
            "           0       0.86      1.00      0.92      1341\n",
            "           1       0.00      0.00      0.00       223\n",
            "\n",
            "    accuracy                           0.86      1564\n",
            "   macro avg       0.43      0.50      0.46      1564\n",
            "weighted avg       0.74      0.86      0.79      1564\n",
            "\n",
            "Confusion Matrix:\n",
            " [[1341    0]\n",
            " [ 223    0]]\n"
          ]
        },
        {
          "output_type": "stream",
          "name": "stderr",
          "text": [
            "/usr/local/lib/python3.12/dist-packages/sklearn/metrics/_classification.py:1565: UndefinedMetricWarning: Precision is ill-defined and being set to 0.0 in labels with no predicted samples. Use `zero_division` parameter to control this behavior.\n",
            "  _warn_prf(average, modifier, f\"{metric.capitalize()} is\", len(result))\n",
            "/usr/local/lib/python3.12/dist-packages/sklearn/metrics/_classification.py:1565: UndefinedMetricWarning: Precision is ill-defined and being set to 0.0 in labels with no predicted samples. Use `zero_division` parameter to control this behavior.\n",
            "  _warn_prf(average, modifier, f\"{metric.capitalize()} is\", len(result))\n",
            "/usr/local/lib/python3.12/dist-packages/sklearn/metrics/_classification.py:1565: UndefinedMetricWarning: Precision is ill-defined and being set to 0.0 in labels with no predicted samples. Use `zero_division` parameter to control this behavior.\n",
            "  _warn_prf(average, modifier, f\"{metric.capitalize()} is\", len(result))\n"
          ]
        },
        {
          "output_type": "display_data",
          "data": {
            "text/plain": [
              "<Figure size 640x480 with 1 Axes>"
            ],
            "image/png": "[encoded data removed]"
          },
          "metadata": {}
        }
      ]
    },
    {
      "cell_type": "code",
      "source": [
        "PNEUMONIA_DATASET_DIR = \"data/pneumonia/chest_xray/chest_xray\"\n",
        "\n",
        "# Train + Validation generator (with split)\n",
        "train_gen = ImageDataGenerator(\n",
        "    rescale=1./255,\n",
        "    validation_split=0.2   # 20% images for validation\n",
        ")\n",
        "\n",
        "# Train set\n",
        "train_flow_p = train_gen.flow_from_directory(\n",
        "    os.path.join(PNEUMONIA_DATASET_DIR, \"train\"),\n",
        "    target_size=IMG_SIZE,\n",
        "    batch_size=BATCH_SIZE,\n",
        "    class_mode=\"binary\",\n",
        "    subset=\"training\",\n",
        "    shuffle=True,\n",
        "    seed=SEED\n",
        ")\n",
        "\n",
        "# Validation set\n",
        "val_flow_p = train_gen.flow_from_directory(\n",
        "    os.path.join(PNEUMONIA_DATASET_DIR, \"train\"),\n",
        "    target_size=IMG_SIZE,\n",
        "    batch_size=BATCH_SIZE,\n",
        "    class_mode=\"binary\",\n",
        "    subset=\"validation\",\n",
        "    shuffle=False,\n",
        "    seed=SEED\n",
        ")\n",
        "\n",
        "# Test set\n",
        "test_gen = ImageDataGenerator(rescale=1./255)\n",
        "test_flow_p = test_gen.flow_from_directory(\n",
        "    os.path.join(PNEUMONIA_DATASET_DIR, \"test\"),\n",
        "    target_size=IMG_SIZE,\n",
        "    batch_size=BATCH_SIZE,\n",
        "    class_mode=\"binary\",\n",
        "    shuffle=False\n",
        ")\n"
      ],
      "metadata": {
        "colab": {
          "base_uri": "https://localhost:8080/"
        },
        "id": "6sSauQU3_TAL",
        "outputId": "68690a0c-fa1a-4ff2-e298-22b1980308ac"
      },
      "execution_count": 33,
      "outputs": [
        {
          "output_type": "stream",
          "name": "stdout",
          "text": [
            "Found 776 images belonging to 1 classes.\n",
            "Found 194 images belonging to 1 classes.\n",
            "Found 624 images belonging to 2 classes.\n"
          ]
        }
      ]
    },
    {
      "cell_type": "code",
      "source": [
        "from tensorflow.keras.preprocessing.image import ImageDataGenerator\n",
        "\n",
        "# Generators with validation split\n",
        "train_gen = ImageDataGenerator(\n",
        "    rescale=1./255,\n",
        "    validation_split=0.2   # 20% images for validation\n",
        ")\n",
        "\n",
        "test_gen = ImageDataGenerator(rescale=1./255)\n",
        "\n",
        "# Training split\n",
        "train_flow_p = train_gen.flow_from_directory(\n",
        "    os.path.join(PNEUMONIA_DATASET_DIR, \"train\"),\n",
        "    target_size=IMG_SIZE,\n",
        "    batch_size=BATCH_SIZE,\n",
        "    class_mode=\"binary\",\n",
        "    subset=\"training\",   # important\n",
        "    shuffle=True,\n",
        "    seed=SEED\n",
        ")\n",
        "\n",
        "# Validation split\n",
        "val_flow_p = train_gen.flow_from_directory(\n",
        "    os.path.join(PNEUMONIA_DATASET_DIR, \"train\"),\n",
        "    target_size=IMG_SIZE,\n",
        "    batch_size=BATCH_SIZE,\n",
        "    class_mode=\"binary\",\n",
        "    subset=\"validation\",  # important\n",
        "    shuffle=False,\n",
        "    seed=SEED\n",
        ")\n",
        "\n",
        "# Test data\n",
        "test_flow_p = test_gen.flow_from_directory(\n",
        "    os.path.join(PNEUMONIA_DATASET_DIR, \"test\"),\n",
        "    target_size=IMG_SIZE,\n",
        "    batch_size=BATCH_SIZE,\n",
        "    class_mode=\"binary\",\n",
        "    shuffle=False\n",
        ")\n"
      ],
      "metadata": {
        "colab": {
          "base_uri": "https://localhost:8080/"
        },
        "id": "tqhT7OOTBgPk",
        "outputId": "40fd4e93-1baa-446a-b62d-f46e1107b220"
      },
      "execution_count": 38,
      "outputs": [
        {
          "output_type": "stream",
          "name": "stdout",
          "text": [
            "Found 776 images belonging to 1 classes.\n",
            "Found 194 images belonging to 1 classes.\n",
            "Found 624 images belonging to 2 classes.\n"
          ]
        }
      ]
    },
    {
      "cell_type": "code",
      "source": [
        "from tensorflow.keras.preprocessing.image import ImageDataGenerator\n",
        "from tensorflow.keras.applications import EfficientNetB0\n",
        "from tensorflow.keras import layers, models, regularizers\n",
        "from tensorflow.keras.callbacks import EarlyStopping, ReduceLROnPlateau\n",
        "from tensorflow.keras.metrics import AUC\n",
        "import os\n",
        "\n",
        "# ==========================================================\n",
        "# Data Augmentation (Strong)\n",
        "# ==========================================================\n",
        "train_gen = ImageDataGenerator(\n",
        "    rescale=1./255,\n",
        "    validation_split=0.2,\n",
        "    rotation_range=25,\n",
        "    width_shift_range=0.15,\n",
        "    height_shift_range=0.15,\n",
        "    shear_range=0.15,\n",
        "    zoom_range=0.25,\n",
        "    horizontal_flip=True,\n",
        "    brightness_range=[0.7, 1.3],\n",
        "    fill_mode=\"nearest\"\n",
        ")\n",
        "\n",
        "test_gen = ImageDataGenerator(rescale=1./255)\n",
        "\n",
        "# Train split\n",
        "train_flow_p = train_gen.flow_from_directory(\n",
        "    os.path.join(PNEUMONIA_DATASET_DIR, \"train\"),\n",
        "    target_size=IMG_SIZE,\n",
        "    batch_size=BATCH_SIZE,\n",
        "    class_mode=\"binary\",\n",
        "    subset=\"training\",\n",
        "    shuffle=True,\n",
        "    seed=SEED\n",
        ")\n",
        "\n",
        "# Validation split\n",
        "val_flow_p = train_gen.flow_from_directory(\n",
        "    os.path.join(PNEUMONIA_DATASET_DIR, \"train\"),\n",
        "    target_size=IMG_SIZE,\n",
        "    batch_size=BATCH_SIZE,\n",
        "    class_mode=\"binary\",\n",
        "    subset=\"validation\",\n",
        "    shuffle=False,\n",
        "    seed=SEED\n",
        ")\n",
        "\n",
        "# Test\n",
        "test_flow_p = test_gen.flow_from_directory(\n",
        "    os.path.join(PNEUMONIA_DATASET_DIR, \"test\"),\n",
        "    target_size=IMG_SIZE,\n",
        "    batch_size=BATCH_SIZE,\n",
        "    class_mode=\"binary\",\n",
        "    shuffle=False\n",
        ")\n"
      ],
      "metadata": {
        "colab": {
          "base_uri": "https://localhost:8080/"
        },
        "id": "KGCISmVaxNxr",
        "outputId": "628fcdc2-20c6-4114-afbd-9495608b3014"
      },
      "execution_count": 54,
      "outputs": [
        {
          "output_type": "stream",
          "name": "stdout",
          "text": [
            "Found 776 images belonging to 1 classes.\n",
            "Found 194 images belonging to 1 classes.\n",
            "Found 624 images belonging to 2 classes.\n"
          ]
        }
      ]
    },
    {
      "cell_type": "code",
      "source": [
        "from sklearn.utils.class_weight import compute_class_weight\n",
        "import numpy as np\n",
        "\n",
        "# Class weights calculate\n",
        "class_weights = compute_class_weight(\n",
        "    class_weight=\"balanced\",\n",
        "    classes=np.unique(train_flow.classes),\n",
        "    y=train_flow.classes\n",
        ")\n",
        "class_weights = dict(enumerate(class_weights))\n"
      ],
      "metadata": {
        "id": "PHgEwHuCMQF0"
      },
      "execution_count": 68,
      "outputs": []
    },
    {
      "cell_type": "code",
      "source": [
        "from tensorflow import keras\n",
        "from tensorflow.keras import layers\n",
        "from tensorflow.keras.applications import MobileNetV2\n",
        "\n",
        "# Load pretrained MobileNetV2\n",
        "base_model = MobileNetV2(weights=\"imagenet\", include_top=False, input_shape=(128,128,3))\n",
        "base_model.trainable = False   # Freeze convolutional base\n",
        "\n",
        "# Build classifier on top\n",
        "model = keras.Sequential([\n",
        "    base_model,\n",
        "    layers.GlobalAveragePooling2D(),\n",
        "    layers.Dropout(0.3),\n",
        "    layers.Dense(1, activation=\"sigmoid\")\n",
        "])\n",
        "\n",
        "# Compile with small LR\n",
        "model.compile(optimizer=keras.optimizers.Adam(1e-4),\n",
        "              loss=\"binary_crossentropy\",\n",
        "              metrics=[\"accuracy\"])\n",
        "\n",
        "# Callbacks\n",
        "callbacks = [\n",
        "    keras.callbacks.EarlyStopping(patience=3, restore_best_weights=True, monitor=\"val_loss\"),\n",
        "    keras.callbacks.ReduceLROnPlateau(monitor=\"val_loss\", factor=0.5, patience=2, min_lr=1e-6)\n",
        "]\n",
        "\n",
        "# Train\n",
        "history = model.fit(\n",
        "    train_flow,\n",
        "    validation_data=val_flow,\n",
        "    epochs=12,\n",
        "    callbacks=callbacks,\n",
        "    verbose=1\n",
        ")\n"
      ],
      "metadata": {
        "colab": {
          "base_uri": "https://localhost:8080/"
        },
        "id": "BgMkJHVpMX95",
        "outputId": "4602f693-38cb-4f85-ee95-1fd539abc891"
      },
      "execution_count": 72,
      "outputs": [
        {
          "output_type": "stream",
          "name": "stdout",
          "text": [
            "Downloading data from https://storage.googleapis.com/tensorflow/keras-applications/mobilenet_v2/mobilenet_v2_weights_tf_dim_ordering_tf_kernels_1.0_128_no_top.h5\n",
            "\u001b[1m9406464/9406464\u001b[0m \u001b[32m━━━━━━━━━━━━━━━━━━━━\u001b[0m\u001b[37m\u001b[0m \u001b[1m1s\u001b[0m 0us/step\n",
            "Epoch 1/12\n",
            "\u001b[1m157/157\u001b[0m \u001b[32m━━━━━━━━━━━━━━━━━━━━\u001b[0m\u001b[37m\u001b[0m \u001b[1m72s\u001b[0m 372ms/step - accuracy: 0.8146 - loss: 0.4865 - val_accuracy: 0.8633 - val_loss: 0.3603 - learning_rate: 1.0000e-04\n",
            "Epoch 2/12\n",
            "\u001b[1m157/157\u001b[0m \u001b[32m━━━━━━━━━━━━━━━━━━━━\u001b[0m\u001b[37m\u001b[0m \u001b[1m41s\u001b[0m 259ms/step - accuracy: 0.8463 - loss: 0.4125 - val_accuracy: 0.8745 - val_loss: 0.3138 - learning_rate: 1.0000e-04\n",
            "Epoch 3/12\n",
            "\u001b[1m157/157\u001b[0m \u001b[32m━━━━━━━━━━━━━━━━━━━━\u001b[0m\u001b[37m\u001b[0m \u001b[1m37s\u001b[0m 239ms/step - accuracy: 0.8669 - loss: 0.3537 - val_accuracy: 0.8761 - val_loss: 0.2944 - learning_rate: 1.0000e-04\n",
            "Epoch 4/12\n",
            "\u001b[1m157/157\u001b[0m \u001b[32m━━━━━━━━━━━━━━━━━━━━\u001b[0m\u001b[37m\u001b[0m \u001b[1m41s\u001b[0m 239ms/step - accuracy: 0.8607 - loss: 0.3531 - val_accuracy: 0.8809 - val_loss: 0.2798 - learning_rate: 1.0000e-04\n",
            "Epoch 5/12\n",
            "\u001b[1m157/157\u001b[0m \u001b[32m━━━━━━━━━━━━━━━━━━━━\u001b[0m\u001b[37m\u001b[0m \u001b[1m38s\u001b[0m 239ms/step - accuracy: 0.8583 - loss: 0.3333 - val_accuracy: 0.8849 - val_loss: 0.2718 - learning_rate: 1.0000e-04\n",
            "Epoch 6/12\n",
            "\u001b[1m157/157\u001b[0m \u001b[32m━━━━━━━━━━━━━━━━━━━━\u001b[0m\u001b[37m\u001b[0m \u001b[1m40s\u001b[0m 256ms/step - accuracy: 0.8657 - loss: 0.3381 - val_accuracy: 0.8849 - val_loss: 0.2664 - learning_rate: 1.0000e-04\n",
            "Epoch 7/12\n",
            "\u001b[1m157/157\u001b[0m \u001b[32m━━━━━━━━━━━━━━━━━━━━\u001b[0m\u001b[37m\u001b[0m \u001b[1m38s\u001b[0m 240ms/step - accuracy: 0.8656 - loss: 0.3272 - val_accuracy: 0.8881 - val_loss: 0.2624 - learning_rate: 1.0000e-04\n",
            "Epoch 8/12\n",
            "\u001b[1m157/157\u001b[0m \u001b[32m━━━━━━━━━━━━━━━━━━━━\u001b[0m\u001b[37m\u001b[0m \u001b[1m37s\u001b[0m 239ms/step - accuracy: 0.8703 - loss: 0.3114 - val_accuracy: 0.8889 - val_loss: 0.2593 - learning_rate: 1.0000e-04\n",
            "Epoch 9/12\n",
            "\u001b[1m157/157\u001b[0m \u001b[32m━━━━━━━━━━━━━━━━━━━━\u001b[0m\u001b[37m\u001b[0m \u001b[1m37s\u001b[0m 238ms/step - accuracy: 0.8616 - loss: 0.3121 - val_accuracy: 0.8913 - val_loss: 0.2563 - learning_rate: 1.0000e-04\n",
            "Epoch 10/12\n",
            "\u001b[1m157/157\u001b[0m \u001b[32m━━━━━━━━━━━━━━━━━━━━\u001b[0m\u001b[37m\u001b[0m \u001b[1m37s\u001b[0m 237ms/step - accuracy: 0.8762 - loss: 0.2915 - val_accuracy: 0.8921 - val_loss: 0.2544 - learning_rate: 1.0000e-04\n",
            "Epoch 11/12\n",
            "\u001b[1m157/157\u001b[0m \u001b[32m━━━━━━━━━━━━━━━━━━━━\u001b[0m\u001b[37m\u001b[0m \u001b[1m37s\u001b[0m 236ms/step - accuracy: 0.8694 - loss: 0.3015 - val_accuracy: 0.8937 - val_loss: 0.2511 - learning_rate: 1.0000e-04\n",
            "Epoch 12/12\n",
            "\u001b[1m157/157\u001b[0m \u001b[32m━━━━━━━━━━━━━━━━━━━━\u001b[0m\u001b[37m\u001b[0m \u001b[1m37s\u001b[0m 235ms/step - accuracy: 0.8787 - loss: 0.2894 - val_accuracy: 0.8921 - val_loss: 0.2496 - learning_rate: 1.0000e-04\n"
          ]
        }
      ]
    },
    {
      "cell_type": "code",
      "source": [
        "import matplotlib.pyplot as plt\n",
        "from sklearn.metrics import roc_curve, auc\n",
        "import numpy as np\n",
        "\n",
        "# ---- Accuracy & Loss Graphs ----\n",
        "plt.figure(figsize=(12,5))\n",
        "\n",
        "# Accuracy\n",
        "plt.subplot(1,2,1)\n",
        "plt.plot(history.history[\"accuracy\"], label=\"Train Acc\")\n",
        "plt.plot(history.history[\"val_accuracy\"], label=\"Val Acc\")\n",
        "plt.title(\"Accuracy\")\n",
        "plt.xlabel(\"Epochs\")\n",
        "plt.ylabel(\"Accuracy\")\n",
        "plt.legend()\n",
        "\n",
        "# Loss\n",
        "plt.subplot(1,2,2)\n",
        "plt.plot(history.history[\"loss\"], label=\"Train Loss\")\n",
        "plt.plot(history.history[\"val_loss\"], label=\"Val Loss\")\n",
        "plt.title(\"Loss\")\n",
        "plt.xlabel(\"Epochs\")\n",
        "plt.ylabel(\"Loss\")\n",
        "plt.legend()\n",
        "plt.show()\n"
      ],
      "metadata": {
        "colab": {
          "base_uri": "https://localhost:8080/",
          "height": 487
        },
        "id": "O5k0YF4XWSS9",
        "outputId": "ad2623e4-7aae-4e0a-97b0-76c8eb2afc02"
      },
      "execution_count": 74,
      "outputs": [
        {
          "output_type": "display_data",
          "data": {
            "text/plain": [
              "<Figure size 1200x500 with 2 Axes>"
            ],
            "image/png": "[encoded data removed]"
          },
          "metadata": {}
        }
      ]
    },
    {
      "cell_type": "code",
      "source": [
        "# ---- ROC Curve ----\n",
        "# Get predictions on validation set\n",
        "y_true = val_flow.classes   # true labels\n",
        "y_pred = model.predict(val_flow).ravel()  # predicted probabilities\n",
        "\n",
        "# Compute ROC curve\n",
        "fpr, tpr, thresholds = roc_curve(y_true, y_pred)\n",
        "roc_auc = auc(fpr, tpr)\n",
        "\n",
        "plt.figure(figsize=(6,6))\n",
        "plt.plot(fpr, tpr, color=\"blue\", lw=2, label=f\"ROC Curve (AUC = {roc_auc:.2f})\")\n",
        "plt.plot([0,1], [0,1], color=\"gray\", linestyle=\"--\")  # random guess line\n",
        "plt.xlabel(\"False Positive Rate\")\n",
        "plt.ylabel(\"True Positive Rate\")\n",
        "plt.title(\"Receiver Operating Characteristic (ROC)\")\n",
        "plt.legend(loc=\"lower right\")\n",
        "plt.show()\n"
      ],
      "metadata": {
        "colab": {
          "base_uri": "https://localhost:8080/",
          "height": 582
        },
        "id": "y1eQRzRKWbCm",
        "outputId": "7f79c2eb-ee00-4749-9e28-e6eafe7e7bfb"
      },
      "execution_count": 75,
      "outputs": [
        {
          "output_type": "stream",
          "name": "stdout",
          "text": [
            "\u001b[1m40/40\u001b[0m \u001b[32m━━━━━━━━━━━━━━━━━━━━\u001b[0m\u001b[37m\u001b[0m \u001b[1m16s\u001b[0m 277ms/step\n"
          ]
        },
        {
          "output_type": "display_data",
          "data": {
            "text/plain": [
              "<Figure size 600x600 with 1 Axes>"
            ],
            "image/png": "[encoded data removed]"
          },
          "metadata": {}
        }
      ]
    }
  ]
}